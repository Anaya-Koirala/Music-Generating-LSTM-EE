{
  "nbformat": 4,
  "nbformat_minor": 0,
  "metadata": {
    "colab": {
      "provenance": [],
      "collapsed_sections": [
        "cgyIsdLN_YWw",
        "EpjuzS1p_gyw",
        "iB03w8ik_l7e",
        "EoesJSBOBXym",
        "hbguTSbq4j0-",
        "TvpEs9Hc5fKb",
        "hgGM78vO5goS",
        "460Ae4ziCq2M"
      ]
    },
    "kernelspec": {
      "name": "python3",
      "display_name": "Python 3"
    },
    "language_info": {
      "name": "python"
    }
  },
  "cells": [
    {
      "cell_type": "markdown",
      "source": [
        "# Setup"
      ],
      "metadata": {
        "id": "cgyIsdLN_YWw"
      }
    },
    {
      "cell_type": "code",
      "source": [
        "!sudo apt install -y fluidsynth"
      ],
      "metadata": {
        "id": "qh2eZKABjBQH"
      },
      "execution_count": null,
      "outputs": []
    },
    {
      "cell_type": "code",
      "source": [
        "!pip install --upgrade pyfluidsynth"
      ],
      "metadata": {
        "id": "bMwLVbgxjDHV"
      },
      "execution_count": null,
      "outputs": []
    },
    {
      "cell_type": "code",
      "source": [
        "!pip install pretty_midi music21 pandas numpy matplotlib seaborn"
      ],
      "metadata": {
        "id": "FdGDVmKbjEk2"
      },
      "execution_count": null,
      "outputs": []
    },
    {
      "cell_type": "code",
      "execution_count": null,
      "metadata": {
        "id": "uJn3Ym0YfijG"
      },
      "outputs": [],
      "source": [
        "import pretty_midi\n",
        "import pandas as pd\n",
        "import numpy as np\n",
        "import matplotlib.pyplot as plt\n",
        "import seaborn as sns\n",
        "import collections\n",
        "import random\n",
        "import glob\n",
        "from collections import defaultdict, Counter\n",
        "from scipy.stats import skew, ttest_ind"
      ]
    },
    {
      "cell_type": "code",
      "source": [
        "from google.colab import drive\n",
        "drive.mount('/content/drive')\n",
        "pretty_midi.pretty_midi.MAX_TICK = 1e10"
      ],
      "metadata": {
        "id": "Mr3SENpLhol5"
      },
      "execution_count": null,
      "outputs": []
    },
    {
      "cell_type": "markdown",
      "source": [
        "# File Paths"
      ],
      "metadata": {
        "id": "EpjuzS1p_gyw"
      }
    },
    {
      "cell_type": "code",
      "source": [
        "def midi_to_notes(midi_file: str, max_duration=30.0) -> pd.DataFrame:\n",
        "    pm = pretty_midi.PrettyMIDI(midi_file)\n",
        "    instrument = pm.instruments[0]\n",
        "    notes = collections.defaultdict(list)\n",
        "\n",
        "    sorted_notes = sorted(instrument.notes, key=lambda note: note.start)\n",
        "\n",
        "    # Process only notes that start before max_duration (30 seconds)\n",
        "    for note in sorted_notes:\n",
        "        if note.start > max_duration:\n",
        "            break\n",
        "        start = note.start\n",
        "        end = min(note.end, max_duration)  # Limit the note end to max_duration\n",
        "        notes['pitch'].append(note.pitch)\n",
        "        notes['start'].append(start)\n",
        "        notes['end'].append(end)\n",
        "        notes['step'].append(start - (notes['start'][-2] if len(notes['start']) > 1 else 0))\n",
        "        notes['duration'].append(end - start)\n",
        "\n",
        "    return pd.DataFrame({name: np.array(value) for name, value in notes.items()})\n",
        "\n",
        "\n",
        "def load_and_process_midis(midi_files):\n",
        "    all_notes = []\n",
        "    for midi_file in midi_files:\n",
        "        notes_df = midi_to_notes(midi_file)\n",
        "        all_notes.append(notes_df)\n",
        "    return all_notes"
      ],
      "metadata": {
        "id": "UroZRne8-7bN"
      },
      "execution_count": null,
      "outputs": []
    },
    {
      "cell_type": "markdown",
      "source": [
        "# Plot Distributions"
      ],
      "metadata": {
        "id": "iB03w8ik_l7e"
      }
    },
    {
      "cell_type": "code",
      "source": [
        "def plot_distributions(notes: pd.DataFrame, title: str, drop_percentile=2.5):\n",
        "    plt.figure(figsize=[15, 5])\n",
        "    plt.suptitle(title)\n",
        "\n",
        "    plt.subplot(1, 3, 1)\n",
        "    sns.histplot(notes, x=\"pitch\", bins=20)\n",
        "\n",
        "    plt.subplot(1, 3, 2)\n",
        "    max_step = np.percentile(notes['step'], 100 - drop_percentile)\n",
        "    sns.histplot(notes, x=\"step\", bins=np.linspace(0, max_step, 21))\n",
        "\n",
        "    plt.subplot(1, 3, 3)\n",
        "    max_duration = np.percentile(notes['duration'], 100 - drop_percentile)\n",
        "    sns.histplot(notes, x=\"duration\", bins=np.linspace(0, max_duration, 21))\n",
        "\n",
        "\n",
        "\n",
        "def plot_total_distribution(all_notes,  title: str, drop_percentile=2.5):\n",
        "    combined_notes = pd.concat(all_notes)\n",
        "    plot_distributions(combined_notes, f'Total Distribution of {title} MIDI Files', drop_percentile)\n",
        "\n",
        "def plot_average_distribution(all_notes, title: str, drop_percentile=2.5):\n",
        "    combined_notes = pd.concat(all_notes)\n",
        "\n",
        "    avg_notes = pd.DataFrame({\n",
        "        'pitch': combined_notes.groupby(combined_notes.index).pitch.mean(),\n",
        "        'step': combined_notes.groupby(combined_notes.index).step.mean(),\n",
        "        'duration': combined_notes.groupby(combined_notes.index).duration.mean()\n",
        "    })\n",
        "\n",
        "    plt.figure(figsize=[15, 5])\n",
        "    plt.suptitle(f'Average Distribution of {title} MIDI Files')\n",
        "\n",
        "    plt.subplot(1, 3, 1)\n",
        "    sns.histplot(avg_notes, x=\"pitch\", bins=20)\n",
        "    plt.xlabel('Average Pitch')\n",
        "\n",
        "    plt.subplot(1, 3, 2)\n",
        "    max_step = np.percentile(avg_notes['step'], 100 - drop_percentile)\n",
        "    sns.histplot(avg_notes, x=\"step\", bins=np.linspace(0, max_step, 21))\n",
        "    plt.xlabel('Average Step')\n",
        "\n",
        "    plt.subplot(1, 3, 3)\n",
        "    max_duration = np.percentile(avg_notes['duration'], 100 - drop_percentile)\n",
        "    sns.histplot(avg_notes, x=\"duration\", bins=np.linspace(0, max_duration, 21))\n",
        "    plt.xlabel('Average Duration')\n",
        "\n",
        "    plt.tight_layout()\n",
        "    plt.show()\n",
        "\n",
        "\n",
        "\n",
        "def plot_sample_distributions(num_samples=2, drop_percentile=2.5):\n",
        "    for i in range(num_samples-1):\n",
        "\n",
        "        random_index = random.randint(0,len(generated_midi_files)-1)\n",
        "\n",
        "        plot_distributions(midi_to_notes(generated_midi_files[random_index]), f'Distribution of Generated MIDI File {generated_midi_files[random_index]}')\n",
        "        plot_distributions(midi_to_notes(dataset_midi_files[random_index]), f'Distribution of Dataset MIDI File {dataset_midi_files[random_index]}')"
      ],
      "metadata": {
        "id": "5-Dycq4HyGwv"
      },
      "execution_count": null,
      "outputs": []
    },
    {
      "cell_type": "markdown",
      "source": [
        "# Plot Piano Roll"
      ],
      "metadata": {
        "id": "EoesJSBOBXym"
      }
    },
    {
      "cell_type": "code",
      "source": [
        "def plot_piano_roll(notes: pd.DataFrame, count = None):\n",
        "\n",
        "    title = f'Piano Roll of Sample Track'\n",
        "    count = len(notes['pitch'])\n",
        "    plt.figure(figsize=(20, 4))\n",
        "    plot_pitch = np.stack([notes['pitch'], notes['pitch']], axis=0)\n",
        "    plot_start_stop = np.stack([notes['start'], notes['end']], axis=0)\n",
        "    plt.plot(\n",
        "      plot_start_stop[:, :count], plot_pitch[:, :count], color=\"b\", marker=\".\")\n",
        "    plt.xlabel('Time [s]')\n",
        "    plt.ylabel('Pitch')\n",
        "    _ = plt.title(title)\n",
        "\n",
        "def plot_average_piano_roll(all_notes,title: str):\n",
        "    combined_notes = pd.concat(all_notes)\n",
        "    avg_notes = pd.DataFrame({\n",
        "        'pitch': combined_notes.groupby(combined_notes.index).pitch.mean(),\n",
        "        'start': combined_notes.groupby(combined_notes.index).start.mean(),\n",
        "        'end': combined_notes.groupby(combined_notes.index).end.mean()\n",
        "    })\n",
        "    title = f'Average {title} Piano Roll'\n",
        "    plt.figure(figsize=(20, 4))\n",
        "    plot_pitch = np.stack([avg_notes['pitch'], avg_notes['pitch']], axis=0)\n",
        "    plot_start_stop = np.stack([avg_notes['start'], avg_notes['end']], axis=0)\n",
        "    plt.plot(\n",
        "      plot_start_stop, plot_pitch, color=\"b\", marker=\".\")\n",
        "    plt.xlabel('Time [s]')\n",
        "    plt.ylabel('Pitch')\n",
        "    _ = plt.title(title)\n",
        "    plt.show()"
      ],
      "metadata": {
        "id": "v7YBof4fBV7T"
      },
      "execution_count": null,
      "outputs": []
    },
    {
      "cell_type": "markdown",
      "source": [
        "# Standard Deviation and Variance"
      ],
      "metadata": {
        "id": "hbguTSbq4j0-"
      }
    },
    {
      "cell_type": "code",
      "source": [
        "def calculate_standard_deviation(notes_list):\n",
        "    std_dev = {'pitch': [], 'step': [], 'duration': []}\n",
        "    for notes in notes_list:\n",
        "        std_dev['pitch'].append(notes['pitch'].std())\n",
        "        std_dev['step'].append(notes['step'].std())\n",
        "        std_dev['duration'].append(notes['duration'].std())\n",
        "\n",
        "    avg_std_dev = {key: np.mean(values) for key, values in std_dev.items()}\n",
        "    return avg_std_dev\n",
        "\n",
        "def calculate_variance(notes_list):\n",
        "    variance = {'pitch': [], 'step': [], 'duration': []}\n",
        "    for notes in notes_list:\n",
        "        variance['pitch'].append(notes['pitch'].var())\n",
        "        variance['step'].append(notes['step'].var())\n",
        "        variance['duration'].append(notes['duration'].var())\n",
        "\n",
        "    avg_variance = {key: np.mean(values) for key, values in variance.items()}\n",
        "    return avg_variance"
      ],
      "metadata": {
        "id": "NsTVxWPf4i--"
      },
      "execution_count": null,
      "outputs": []
    },
    {
      "cell_type": "markdown",
      "source": [
        "# T-Test"
      ],
      "metadata": {
        "id": "TvpEs9Hc5fKb"
      }
    },
    {
      "cell_type": "code",
      "source": [
        "from scipy.stats import ttest_ind, skew\n",
        "\n",
        "def perform_t_tests(notes_list1, notes_list2):\n",
        "    results = {}\n",
        "\n",
        "    for attribute in ['pitch', 'step', 'duration']:\n",
        "        data1 = pd.concat([df[attribute] for df in notes_list1])\n",
        "        data2 = pd.concat([df[attribute] for df in notes_list2])\n",
        "\n",
        "        t_stat, p_value = ttest_ind(data1, data2)\n",
        "        results[attribute] = {'t_stat': t_stat, 'p_value': p_value}\n",
        "\n",
        "    return results"
      ],
      "metadata": {
        "id": "6xK9v7CO5Xnm"
      },
      "execution_count": null,
      "outputs": []
    },
    {
      "cell_type": "markdown",
      "source": [
        "# Skewness"
      ],
      "metadata": {
        "id": "hgGM78vO5goS"
      }
    },
    {
      "cell_type": "code",
      "source": [
        "def calculate_skewness(notes_list):\n",
        "    skewness = {'pitch': [], 'step': [], 'duration': []}\n",
        "    for notes in notes_list:\n",
        "        skewness['pitch'].append(skew(notes['pitch']))\n",
        "        skewness['step'].append(skew(notes['step']))\n",
        "        skewness['duration'].append(skew(notes['duration']))\n",
        "\n",
        "    avg_skewness = {key: np.mean(values) for key, values in skewness.items()}\n",
        "    return avg_skewness"
      ],
      "metadata": {
        "id": "Z5EFo0jm5dGo"
      },
      "execution_count": null,
      "outputs": []
    },
    {
      "cell_type": "markdown",
      "source": [
        "# Melody Detection (Little Bit Wacky)"
      ],
      "metadata": {
        "id": "bVEhZlD7D0aP"
      }
    },
    {
      "cell_type": "code",
      "source": [
        "def detect_melodies(notes: pd.DataFrame, min_length=4, min_repeats=2):\n",
        "    sequence = list(zip(notes['pitch'], notes['step']))\n",
        "    subsequences = defaultdict(int)\n",
        "    for i in range(len(sequence)):\n",
        "        for j in range(i + min_length, len(sequence) + 1):\n",
        "            subsequence = tuple(sequence[i:j])\n",
        "            subsequences[subsequence] += 1\n",
        "    melodies = {subseq: count for subseq, count in subsequences.items() if count >= min_repeats}\n",
        "    return melodies\n",
        "\n",
        "def get_total_melodies(notes_list):\n",
        "    total_melodies = 0\n",
        "    for notes in notes_list:\n",
        "        melodies = detect_melodies(notes)\n",
        "        total_melodies += len(melodies)\n",
        "    return total_melodies\n",
        "\n",
        "def get_average_melodies(notes_list,midi_files):\n",
        "    return get_total_melodies(notes_list)/len(midi_files)"
      ],
      "metadata": {
        "id": "wlnhtEQ3DmJu"
      },
      "execution_count": null,
      "outputs": []
    },
    {
      "cell_type": "markdown",
      "source": [
        "# Time Signature"
      ],
      "metadata": {
        "id": "V8ZPGMRvwjrJ"
      }
    },
    {
      "cell_type": "code",
      "source": [
        "def plot_time_sg(midi_files,title:str):\n",
        "    time_signatures = []\n",
        "    for midi_file in midi_files:\n",
        "        pm = pretty_midi.PrettyMIDI(midi_file)\n",
        "        time_signature_changes = pm.time_signature_changes\n",
        "        if time_signature_changes:\n",
        "            time_signatures.extend([f\"{ts.numerator}/{ts.denominator}\" for ts in time_signature_changes])\n",
        "\n",
        "    ts_counter = Counter(time_signatures)\n",
        "    custom_ts_labels = ['2/4', '3/4', '4/4', '5/4', '6/8', '7/8', '12/8']\n",
        "    ts_labels, counts = zip(*((ts, ts_counter.get(ts, 0)) for ts in custom_ts_labels))\n",
        "    plt.figure(figsize=[15, 5])\n",
        "    sns.barplot(x=ts_labels, y=counts)\n",
        "    plt.xlabel('Time Signatures')\n",
        "    plt.ylabel('Counts')\n",
        "    plt.title(f'Time Signature {title} in MIDI Files')\n",
        "    plt.xticks(rotation=45)\n",
        "    plt.tight_layout()\n",
        "    plt.show()"
      ],
      "metadata": {
        "id": "qDZLikZOFpg2"
      },
      "execution_count": null,
      "outputs": []
    },
    {
      "cell_type": "code",
      "source": [
        "!cp -r  '/content/drive/MyDrive/:(/EE/bach_dataset' /content/\n",
        "!cp -r  '/content/drive/MyDrive/:(/EE/bach_generated' /content/\n",
        "\n",
        "dataset_midi_files = glob.glob('/content/bach_dataset/processed/*.mid')\n",
        "generated_midi_files = glob.glob('/content/bach_generated/*.mid')"
      ],
      "metadata": {
        "id": "tCEzLpDpjMtF"
      },
      "execution_count": null,
      "outputs": []
    },
    {
      "cell_type": "markdown",
      "source": [
        "# Load Dataset and Generated MIDIs"
      ],
      "metadata": {
        "id": "460Ae4ziCq2M"
      }
    },
    {
      "cell_type": "code",
      "source": [
        "dataset_midi_files = dataset_midi_files[0:len(generated_midi_files)]\n",
        "generated_notes = load_and_process_midis(generated_midi_files)\n",
        "dataset_notes = load_and_process_midis(dataset_midi_files)"
      ],
      "metadata": {
        "id": "duV-iXcYCxrR"
      },
      "execution_count": null,
      "outputs": []
    },
    {
      "cell_type": "markdown",
      "source": [
        "# Output"
      ],
      "metadata": {
        "id": "VmjT_EkC_omc"
      }
    },
    {
      "cell_type": "code",
      "source": [
        "plot_sample_distributions()\n",
        "print(\"\\n\")\n",
        "plot_sample_distributions()\n",
        "print(\"\\n\")\n",
        "plot_sample_distributions()"
      ],
      "metadata": {
        "id": "Qrgiv8jcwP_R"
      },
      "execution_count": null,
      "outputs": []
    },
    {
      "cell_type": "code",
      "source": [
        "plot_average_piano_roll(generated_notes,\"Generated\")\n",
        "plot_average_piano_roll(dataset_notes, \"Dataset\")"
      ],
      "metadata": {
        "id": "jBfYZtL1mVQN"
      },
      "execution_count": null,
      "outputs": []
    },
    {
      "cell_type": "code",
      "source": [
        "plot_total_distribution(generated_notes,'Generated')\n",
        "plot_total_distribution(dataset_notes, 'Dataset')"
      ],
      "metadata": {
        "id": "4t2oG_xfmXxV"
      },
      "execution_count": null,
      "outputs": []
    },
    {
      "cell_type": "code",
      "source": [
        "plot_average_distribution(generated_notes,'Generated')\n",
        "plot_average_distribution(dataset_notes, 'Dataset')"
      ],
      "metadata": {
        "id": "SHNmrL3hmZf4"
      },
      "execution_count": null,
      "outputs": []
    },
    {
      "cell_type": "code",
      "source": [
        "t_test_results = perform_t_tests(generated_notes, dataset_notes)\n",
        "\n",
        "for attribute, result in t_test_results.items():\n",
        "    print(f\"T-test for {attribute.capitalize()}:\")\n",
        "    print(\"t-statistic:\", result['t_stat'], \"p-value:\", result['p_value'])\n",
        "    print()\n",
        "\n",
        "print(calculate_variance(generated_notes))\n",
        "print(calculate_variance(dataset_notes))"
      ],
      "metadata": {
        "id": "o4zRp5dQmdLZ"
      },
      "execution_count": null,
      "outputs": []
    },
    {
      "cell_type": "code",
      "source": [
        "plot_time_sg(dataset_midi_files,\"Dataset\")\n",
        "plot_time_sg(generated_midi_files,\"Generated\")"
      ],
      "metadata": {
        "id": "hOaORxOLl6qy"
      },
      "execution_count": null,
      "outputs": []
    }
  ]
}